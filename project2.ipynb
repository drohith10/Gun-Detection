{
  "nbformat": 4,
  "nbformat_minor": 0,
  "metadata": {
    "colab": {
      "provenance": []
    },
    "kernelspec": {
      "name": "python3",
      "display_name": "Python 3"
    },
    "language_info": {
      "name": "python"
    }
  },
  "cells": [
    {
      "cell_type": "code",
      "execution_count": null,
      "metadata": {
        "colab": {
          "base_uri": "https://localhost:8080/"
        },
        "id": "XlUV5E94N9j1",
        "outputId": "758187f3-461e-4d9f-ed93-a7db828e796d"
      },
      "outputs": [
        {
          "output_type": "stream",
          "name": "stdout",
          "text": [
            "Cloning into 'yolov5'...\n",
            "remote: Enumerating objects: 16078, done.\u001b[K\n",
            "remote: Counting objects: 100% (22/22), done.\u001b[K\n",
            "remote: Compressing objects: 100% (21/21), done.\u001b[K\n",
            "remote: Total 16078 (delta 6), reused 9 (delta 1), pack-reused 16056\u001b[K\n",
            "Receiving objects: 100% (16078/16078), 14.64 MiB | 8.55 MiB/s, done.\n",
            "Resolving deltas: 100% (11038/11038), done.\n",
            "/content/yolov5/yolov5\n",
            "Mounted at phonedetectionproject\n",
            "unzip:  cannot find or open /content/gdrive/Mydrive/phonedetectionproject/info/annotations.zip/content/yolov5/weights/, /content/gdrive/Mydrive/phonedetectionproject/info/annotations.zip/content/yolov5/weights/.zip or /content/gdrive/Mydrive/phonedetectionproject/info/annotations.zip/content/yolov5/weights/.ZIP.\n",
            "cp: missing destination file operand after '/content/mydrive/phonedetectionproject/info/annotations/info/content/yolov5/data/'\n",
            "Try 'cp --help' for more information.\n",
            "2023-11-26 15:39:50.316878: E tensorflow/compiler/xla/stream_executor/cuda/cuda_dnn.cc:9342] Unable to register cuDNN factory: Attempting to register factory for plugin cuDNN when one has already been registered\n",
            "2023-11-26 15:39:50.316962: E tensorflow/compiler/xla/stream_executor/cuda/cuda_fft.cc:609] Unable to register cuFFT factory: Attempting to register factory for plugin cuFFT when one has already been registered\n",
            "2023-11-26 15:39:50.317011: E tensorflow/compiler/xla/stream_executor/cuda/cuda_blas.cc:1518] Unable to register cuBLAS factory: Attempting to register factory for plugin cuBLAS when one has already been registered\n",
            "\u001b[34m\u001b[1mtrain: \u001b[0mweights=/content/yolov5/weights/yolov5s.pt, cfg=/content/yolov5/models/yolov5s.yaml, data=/content/yolov5/data/info, hyp=data/hyps/hyp.scratch-low.yaml, epochs=50, batch_size=16, imgsz=640, rect=False, resume=False, nosave=False, noval=False, noautoanchor=False, noplots=False, evolve=None, bucket=, cache=ram, image_weights=False, device=, multi_scale=False, single_cls=False, optimizer=SGD, sync_bn=False, workers=8, project=runs/train, name=exp, exist_ok=False, quad=False, cos_lr=False, label_smoothing=0.0, patience=100, freeze=[0], save_period=-1, seed=0, local_rank=-1, entity=None, upload_dataset=False, bbox_interval=-1, artifact_alias=latest\n",
            "\u001b[34m\u001b[1mgithub: \u001b[0mup to date with https://github.com/ultralytics/yolov5 ✅\n",
            "Traceback (most recent call last):\n",
            "  File \"/content/yolov5/yolov5/train.py\", line 648, in <module>\n",
            "    main(opt)\n",
            "  File \"/content/yolov5/yolov5/train.py\", line 511, in main\n",
            "    check_file(opt.data), check_yaml(opt.cfg), check_yaml(opt.hyp), str(opt.weights), str(opt.project)  # checks\n",
            "  File \"/content/yolov5/yolov5/utils/general.py\", line 468, in check_file\n",
            "    assert len(files), f'File not found: {file}'  # assert file was found\n",
            "AssertionError: File not found: /content/yolov5/data/info\n"
          ]
        }
      ],
      "source": [
        "# Clone YOLOv5 repository\n",
        "!git clone https://github.com/ultralytics/yolov5.git\n",
        "\n",
        "# Navigate to the YOLOv5 directory\n",
        "%cd yolov5\n",
        "\n",
        "# Install dependencies\n",
        "!pip install -qr requirements.txt\n",
        "\n",
        "# Mount Google Drive to access your dataset\n",
        "from google.colab import drive\n",
        "drive.mount('phonedetectionproject')\n",
        "\n",
        "!unzip /content/gdrive/Mydrive/phonedetectionproject/info/annotations.zip/content/yolov5/weights/\n",
        "\n",
        "# Copy your dataset to the YOLOv5 data directory\n",
        "!cp -r /content/mydrive/phonedetectionproject/info/annotations/info/content/yolov5/data/\n",
        "\n",
        "# Modify training configurations (if needed)\n",
        "# Update YAML files in /content/yolov5/models/ directory\n",
        "\n",
        "# Start training\n",
        "!python train.py --img 640 --batch 16 --epochs 50 --data /content/yolov5/data/info --cfg /content/yolov5/models/yolov5s.yaml --weights /content/yolov5/weights/yolov5s.pt --cache\n",
        "\n",
        "# Replace `your_custom.yaml` with your dataset YAML file and update paths accordingly\n"
      ]
    }
  ]
}